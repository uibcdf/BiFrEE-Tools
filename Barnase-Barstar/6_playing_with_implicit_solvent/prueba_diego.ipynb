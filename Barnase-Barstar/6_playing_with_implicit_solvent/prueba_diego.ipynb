{
 "cells": [
  {
   "cell_type": "code",
   "execution_count": 1,
   "id": "074101a2-b83f-47d5-82d0-bdbb8e1da46c",
   "metadata": {
    "tags": []
   },
   "outputs": [
    {
     "name": "stderr",
     "output_type": "stream",
     "text": [
      "Warning: importing 'simtk.openmm' is deprecated.  Import 'openmm' instead.\n",
      "Warning on use of the timeseries module: If the inherent timescales of the system are long compared to those being analyzed, this statistical inefficiency may be an underestimate.  The estimate presumes the use of many statistically independent samples.  Tests should be performed to assess whether this condition is satisfied.   Be cautious in the interpretation of the data.\n"
     ]
    }
   ],
   "source": [
    "import openmm as mm\n",
    "from openmm import unit\n",
    "from openmm import app\n",
    "from openmmtools import testsystems\n",
    "import numpy as np"
   ]
  },
  {
   "cell_type": "code",
   "execution_count": 2,
   "id": "7598091a-1a04-4b93-88e9-9853f98a0120",
   "metadata": {},
   "outputs": [],
   "source": [
    "alanine_implicit = testsystems.AlanineDipeptideImplicit(constraints=app.HBonds)"
   ]
  },
  {
   "cell_type": "code",
   "execution_count": 3,
   "id": "a93ecc48-a8cb-43ce-a071-77dfc7326f0e",
   "metadata": {},
   "outputs": [],
   "source": [
    "system = alanine_implicit.system"
   ]
  },
  {
   "cell_type": "code",
   "execution_count": 4,
   "id": "29e6571d-4b76-499d-9316-15f452acea83",
   "metadata": {},
   "outputs": [
    {
     "data": {
      "text/plain": [
       "<Topology; 1 chains, 3 residues, 22 atoms, 21 bonds>"
      ]
     },
     "execution_count": 4,
     "metadata": {},
     "output_type": "execute_result"
    }
   ],
   "source": [
    "topology = alanine_implicit.topology\n",
    "topology"
   ]
  },
  {
   "cell_type": "code",
   "execution_count": 5,
   "id": "58559758-5f31-4464-8d04-31ee2c4e3432",
   "metadata": {},
   "outputs": [
    {
     "data": {
      "text/plain": [
       "[]"
      ]
     },
     "execution_count": 5,
     "metadata": {},
     "output_type": "execute_result"
    }
   ],
   "source": [
    "properties = alanine_implicit.analytical_properties\n",
    "properties"
   ]
  },
  {
   "cell_type": "code",
   "execution_count": 6,
   "id": "b34916b9-efbf-4efb-90ad-e43093cb69c8",
   "metadata": {},
   "outputs": [
    {
     "data": {
      "text/plain": [
       "<openmm.openmm.CustomGBForce; proxy of <Swig Object of type 'OpenMM::CustomGBForce *' at 0x7f95c953e5a0> >"
      ]
     },
     "execution_count": 6,
     "metadata": {},
     "output_type": "execute_result"
    }
   ],
   "source": [
    "implicit = system.getForce(4)\n",
    "implicit"
   ]
  },
  {
   "cell_type": "code",
   "execution_count": 11,
   "id": "fd7d6852-7f3f-498f-a818-d0a98560b18c",
   "metadata": {
    "tags": []
   },
   "outputs": [
    {
     "data": {
      "text/plain": [
       "['CutoffNonPeriodic',\n",
       " 'CutoffPeriodic',\n",
       " 'NoCutoff',\n",
       " 'ParticlePair',\n",
       " 'ParticlePairNoExclusions',\n",
       " 'SingleParticle',\n",
       " '__class__',\n",
       " '__copy__',\n",
       " '__deepcopy__',\n",
       " '__delattr__',\n",
       " '__dict__',\n",
       " '__dir__',\n",
       " '__doc__',\n",
       " '__eq__',\n",
       " '__format__',\n",
       " '__ge__',\n",
       " '__getattribute__',\n",
       " '__getstate__',\n",
       " '__gt__',\n",
       " '__hash__',\n",
       " '__init__',\n",
       " '__init_subclass__',\n",
       " '__le__',\n",
       " '__lt__',\n",
       " '__module__',\n",
       " '__ne__',\n",
       " '__new__',\n",
       " '__reduce__',\n",
       " '__reduce_ex__',\n",
       " '__repr__',\n",
       " '__setattr__',\n",
       " '__setstate__',\n",
       " '__sizeof__',\n",
       " '__str__',\n",
       " '__subclasshook__',\n",
       " '__swig_destroy__',\n",
       " '__weakref__',\n",
       " 'addComputedValue',\n",
       " 'addEnergyParameterDerivative',\n",
       " 'addEnergyTerm',\n",
       " 'addExclusion',\n",
       " 'addFunction',\n",
       " 'addGlobalParameter',\n",
       " 'addParticle',\n",
       " 'addPerParticleParameter',\n",
       " 'addTabulatedFunction',\n",
       " 'getComputedValueParameters',\n",
       " 'getCutoffDistance',\n",
       " 'getEnergyParameterDerivativeName',\n",
       " 'getEnergyTermParameters',\n",
       " 'getExclusionParticles',\n",
       " 'getForceGroup',\n",
       " 'getFunctionParameters',\n",
       " 'getGlobalParameterDefaultValue',\n",
       " 'getGlobalParameterName',\n",
       " 'getName',\n",
       " 'getNonbondedMethod',\n",
       " 'getNumComputedValues',\n",
       " 'getNumEnergyParameterDerivatives',\n",
       " 'getNumEnergyTerms',\n",
       " 'getNumExclusions',\n",
       " 'getNumFunctions',\n",
       " 'getNumGlobalParameters',\n",
       " 'getNumParticles',\n",
       " 'getNumPerParticleParameters',\n",
       " 'getNumTabulatedFunctions',\n",
       " 'getParticleParameters',\n",
       " 'getPerParticleParameterName',\n",
       " 'getTabulatedFunction',\n",
       " 'getTabulatedFunctionName',\n",
       " 'setComputedValueParameters',\n",
       " 'setCutoffDistance',\n",
       " 'setEnergyTermParameters',\n",
       " 'setExclusionParticles',\n",
       " 'setForceGroup',\n",
       " 'setFunctionParameters',\n",
       " 'setGlobalParameterDefaultValue',\n",
       " 'setGlobalParameterName',\n",
       " 'setName',\n",
       " 'setNonbondedMethod',\n",
       " 'setParticleParameters',\n",
       " 'setPerParticleParameterName',\n",
       " 'this',\n",
       " 'thisown',\n",
       " 'updateParametersInContext',\n",
       " 'usesPeriodicBoundaryConditions']"
      ]
     },
     "execution_count": 11,
     "metadata": {},
     "output_type": "execute_result"
    }
   ],
   "source": [
    "dir(implicit)"
   ]
  },
  {
   "cell_type": "code",
   "execution_count": 7,
   "id": "1400f796-1ee9-4605-9a4a-b8c17c1ecf3a",
   "metadata": {},
   "outputs": [
    {
     "data": {
      "text/plain": [
       "['I',\n",
       " 'select(step(r+sr2-or1), 0.5*(1/L-1/U+0.25*(r-sr2^2/r)*(1/(U^2)-1/(L^2))+0.5*log(L/U)/r), 0);U=r+sr2;L=max(or1, D);D=abs(r-sr2)',\n",
       " 2]"
      ]
     },
     "execution_count": 7,
     "metadata": {},
     "output_type": "execute_result"
    }
   ],
   "source": [
    "implicit.getComputedValueParameters(0)"
   ]
  },
  {
   "cell_type": "code",
   "execution_count": 9,
   "id": "81bae0da-705d-4642-9089-8ba4b2393641",
   "metadata": {},
   "outputs": [
    {
     "data": {
      "text/plain": [
       "['B',\n",
       " '1/(1/or-tanh(0.8*psi+2.909125*psi^3)/radius);psi=I*or; radius=or+offset; offset=0.009',\n",
       " 0]"
      ]
     },
     "execution_count": 9,
     "metadata": {},
     "output_type": "execute_result"
    }
   ],
   "source": [
    "implicit.getComputedValueParameters(1)"
   ]
  },
  {
   "cell_type": "code",
   "execution_count": null,
   "id": "e003f588-95ef-4609-a560-f61480e94e1b",
   "metadata": {},
   "outputs": [],
   "source": [
    "implicit.getCutoffDistance()"
   ]
  },
  {
   "cell_type": "code",
   "execution_count": null,
   "id": "50d072bf-8c82-42f8-ae03-ed1278f0995b",
   "metadata": {},
   "outputs": [],
   "source": [
    "implicit.getEnergyParameterDerivativeName?"
   ]
  },
  {
   "cell_type": "code",
   "execution_count": null,
   "id": "421340e6-4ca5-4746-a2fa-7c7997641a6e",
   "metadata": {},
   "outputs": [],
   "source": [
    "implicit.getEnergyParameterDerivativeName(0)"
   ]
  },
  {
   "cell_type": "code",
   "execution_count": null,
   "id": "94cb084e-f067-42cc-af1a-1a51353627d9",
   "metadata": {},
   "outputs": [],
   "source": [
    "implicit.getEnergyTermParameters?"
   ]
  },
  {
   "cell_type": "code",
   "execution_count": null,
   "id": "fd6293e6-c1f1-48f4-b775-175140613c90",
   "metadata": {},
   "outputs": [],
   "source": [
    "implicit.getEnergyTermParameters(0)"
   ]
  },
  {
   "cell_type": "code",
   "execution_count": null,
   "id": "1f69bf75-99c6-447a-bd87-89dc8f83e2f4",
   "metadata": {},
   "outputs": [],
   "source": [
    "implicit.getEnergyTermParameters(1)"
   ]
  },
  {
   "cell_type": "code",
   "execution_count": null,
   "id": "92ff1785-5646-4a7a-8936-899ef8e97422",
   "metadata": {},
   "outputs": [],
   "source": [
    "implicit.getEnergyTermParameters(2)"
   ]
  },
  {
   "cell_type": "code",
   "execution_count": null,
   "id": "0e85564b-9783-4e50-b8cd-205670335a4c",
   "metadata": {},
   "outputs": [],
   "source": [
    "implicit.getExclusionParticles?"
   ]
  },
  {
   "cell_type": "code",
   "execution_count": null,
   "id": "587d6e53-3103-4879-887f-c1817da511f4",
   "metadata": {},
   "outputs": [],
   "source": [
    "implicit.getForceGroup?"
   ]
  },
  {
   "cell_type": "code",
   "execution_count": null,
   "id": "1111a076-04d9-4de8-a8e1-774bcbcddb47",
   "metadata": {},
   "outputs": [],
   "source": [
    "implicit.getForceGroup()"
   ]
  },
  {
   "cell_type": "code",
   "execution_count": null,
   "id": "e53a6054-17fa-4e85-8392-dc4ceb532ca2",
   "metadata": {},
   "outputs": [],
   "source": [
    "implicit.getFunctionParameters?"
   ]
  },
  {
   "cell_type": "code",
   "execution_count": null,
   "id": "a44e75d2-bc11-4cb9-a609-7f2eee3416f2",
   "metadata": {},
   "outputs": [],
   "source": [
    "implicit.getFunctionParameters(0)"
   ]
  },
  {
   "cell_type": "code",
   "execution_count": null,
   "id": "245f62c8-8b32-4044-80cd-8b14c3c76e46",
   "metadata": {},
   "outputs": [],
   "source": []
  }
 ],
 "metadata": {
  "kernelspec": {
   "display_name": "Python 3 (ipykernel)",
   "language": "python",
   "name": "python3"
  },
  "language_info": {
   "codemirror_mode": {
    "name": "ipython",
    "version": 3
   },
   "file_extension": ".py",
   "mimetype": "text/x-python",
   "name": "python",
   "nbconvert_exporter": "python",
   "pygments_lexer": "ipython3",
   "version": "3.9.16"
  }
 },
 "nbformat": 4,
 "nbformat_minor": 5
}
