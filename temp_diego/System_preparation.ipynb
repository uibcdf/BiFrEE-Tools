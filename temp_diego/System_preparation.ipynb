{
 "cells": [
  {
   "cell_type": "markdown",
   "id": "d6552e6b-543f-4e02-b2b6-581ad6090a43",
   "metadata": {},
   "source": [
    "# System preparation"
   ]
  },
  {
   "cell_type": "code",
   "execution_count": 1,
   "id": "e08b658a-9e05-468a-8c30-23feaac97564",
   "metadata": {
    "tags": []
   },
   "outputs": [
    {
     "data": {
      "application/vnd.jupyter.widget-view+json": {
       "model_id": "aa2dd198e2fa4dc4b187437873a96e74",
       "version_major": 2,
       "version_minor": 0
      },
      "text/plain": []
     },
     "metadata": {},
     "output_type": "display_data"
    }
   ],
   "source": [
    "import molsysmt as msm"
   ]
  },
  {
   "cell_type": "code",
   "execution_count": 9,
   "id": "a1076d40-c5b9-4479-b09b-6db99cfeab24",
   "metadata": {
    "tags": []
   },
   "outputs": [],
   "source": [
    "molsys = msm.convert('1BRS')"
   ]
  },
  {
   "cell_type": "code",
   "execution_count": 3,
   "id": "a05f06b2-bc4a-49eb-a6a9-412494ae00fe",
   "metadata": {
    "tags": []
   },
   "outputs": [
    {
     "data": {
      "text/html": [
       "<style type=\"text/css\">\n",
       "</style>\n",
       "<table id=\"T_5c646\">\n",
       "  <thead>\n",
       "    <tr>\n",
       "      <th id=\"T_5c646_level0_col0\" class=\"col_heading level0 col0\" >form</th>\n",
       "      <th id=\"T_5c646_level0_col1\" class=\"col_heading level0 col1\" >n_atoms</th>\n",
       "      <th id=\"T_5c646_level0_col2\" class=\"col_heading level0 col2\" >n_groups</th>\n",
       "      <th id=\"T_5c646_level0_col3\" class=\"col_heading level0 col3\" >n_components</th>\n",
       "      <th id=\"T_5c646_level0_col4\" class=\"col_heading level0 col4\" >n_chains</th>\n",
       "      <th id=\"T_5c646_level0_col5\" class=\"col_heading level0 col5\" >n_molecules</th>\n",
       "      <th id=\"T_5c646_level0_col6\" class=\"col_heading level0 col6\" >n_entities</th>\n",
       "      <th id=\"T_5c646_level0_col7\" class=\"col_heading level0 col7\" >n_waters</th>\n",
       "      <th id=\"T_5c646_level0_col8\" class=\"col_heading level0 col8\" >n_proteins</th>\n",
       "      <th id=\"T_5c646_level0_col9\" class=\"col_heading level0 col9\" >n_structures</th>\n",
       "    </tr>\n",
       "  </thead>\n",
       "  <tbody>\n",
       "    <tr>\n",
       "      <td id=\"T_5c646_row0_col0\" class=\"data row0 col0\" >molsysmt.MolSys</td>\n",
       "      <td id=\"T_5c646_row0_col1\" class=\"data row0 col1\" >5151</td>\n",
       "      <td id=\"T_5c646_row0_col2\" class=\"data row0 col2\" >1101</td>\n",
       "      <td id=\"T_5c646_row0_col3\" class=\"data row0 col3\" >521</td>\n",
       "      <td id=\"T_5c646_row0_col4\" class=\"data row0 col4\" >12</td>\n",
       "      <td id=\"T_5c646_row0_col5\" class=\"data row0 col5\" >519</td>\n",
       "      <td id=\"T_5c646_row0_col6\" class=\"data row0 col6\" >2</td>\n",
       "      <td id=\"T_5c646_row0_col7\" class=\"data row0 col7\" >513</td>\n",
       "      <td id=\"T_5c646_row0_col8\" class=\"data row0 col8\" >6</td>\n",
       "      <td id=\"T_5c646_row0_col9\" class=\"data row0 col9\" >1</td>\n",
       "    </tr>\n",
       "  </tbody>\n",
       "</table>\n"
      ],
      "text/plain": [
       "<pandas.io.formats.style.Styler at 0x7f311852d070>"
      ]
     },
     "execution_count": 3,
     "metadata": {},
     "output_type": "execute_result"
    }
   ],
   "source": [
    "msm.info(molsys)"
   ]
  },
  {
   "cell_type": "code",
   "execution_count": 5,
   "id": "979bdb2a-cf6a-460d-9bca-bb177a90a4f5",
   "metadata": {},
   "outputs": [],
   "source": [
    "molsys = msm.extract(molsys, selection='molecule_type==\"protein\"')"
   ]
  },
  {
   "cell_type": "code",
   "execution_count": 6,
   "id": "cf09e3fa-9e62-4fea-b5c5-d23e264d3390",
   "metadata": {
    "tags": []
   },
   "outputs": [
    {
     "data": {
      "text/html": [
       "<style type=\"text/css\">\n",
       "</style>\n",
       "<table id=\"T_f380f\">\n",
       "  <thead>\n",
       "    <tr>\n",
       "      <th id=\"T_f380f_level0_col0\" class=\"col_heading level0 col0\" >form</th>\n",
       "      <th id=\"T_f380f_level0_col1\" class=\"col_heading level0 col1\" >n_atoms</th>\n",
       "      <th id=\"T_f380f_level0_col2\" class=\"col_heading level0 col2\" >n_groups</th>\n",
       "      <th id=\"T_f380f_level0_col3\" class=\"col_heading level0 col3\" >n_components</th>\n",
       "      <th id=\"T_f380f_level0_col4\" class=\"col_heading level0 col4\" >n_chains</th>\n",
       "      <th id=\"T_f380f_level0_col5\" class=\"col_heading level0 col5\" >n_molecules</th>\n",
       "      <th id=\"T_f380f_level0_col6\" class=\"col_heading level0 col6\" >n_entities</th>\n",
       "      <th id=\"T_f380f_level0_col7\" class=\"col_heading level0 col7\" >n_proteins</th>\n",
       "      <th id=\"T_f380f_level0_col8\" class=\"col_heading level0 col8\" >n_structures</th>\n",
       "    </tr>\n",
       "  </thead>\n",
       "  <tbody>\n",
       "    <tr>\n",
       "      <td id=\"T_f380f_row0_col0\" class=\"data row0 col0\" >molsysmt.MolSys</td>\n",
       "      <td id=\"T_f380f_row0_col1\" class=\"data row0 col1\" >4638</td>\n",
       "      <td id=\"T_f380f_row0_col2\" class=\"data row0 col2\" >588</td>\n",
       "      <td id=\"T_f380f_row0_col3\" class=\"data row0 col3\" >8</td>\n",
       "      <td id=\"T_f380f_row0_col4\" class=\"data row0 col4\" >6</td>\n",
       "      <td id=\"T_f380f_row0_col5\" class=\"data row0 col5\" >6</td>\n",
       "      <td id=\"T_f380f_row0_col6\" class=\"data row0 col6\" >1</td>\n",
       "      <td id=\"T_f380f_row0_col7\" class=\"data row0 col7\" >6</td>\n",
       "      <td id=\"T_f380f_row0_col8\" class=\"data row0 col8\" >1</td>\n",
       "    </tr>\n",
       "  </tbody>\n",
       "</table>\n"
      ],
      "text/plain": [
       "<pandas.io.formats.style.Styler at 0x7f30b3df8850>"
      ]
     },
     "execution_count": 6,
     "metadata": {},
     "output_type": "execute_result"
    }
   ],
   "source": [
    "msm.info(molsys)"
   ]
  },
  {
   "cell_type": "code",
   "execution_count": 7,
   "id": "999d56ad-1e82-4fc9-825d-b2919875cfb4",
   "metadata": {
    "tags": []
   },
   "outputs": [
    {
     "data": {
      "text/html": [
       "<style type=\"text/css\">\n",
       "</style>\n",
       "<table id=\"T_f9805\">\n",
       "  <thead>\n",
       "    <tr>\n",
       "      <th id=\"T_f9805_level0_col0\" class=\"col_heading level0 col0\" >index</th>\n",
       "      <th id=\"T_f9805_level0_col1\" class=\"col_heading level0 col1\" >name</th>\n",
       "      <th id=\"T_f9805_level0_col2\" class=\"col_heading level0 col2\" >type</th>\n",
       "      <th id=\"T_f9805_level0_col3\" class=\"col_heading level0 col3\" >n atoms</th>\n",
       "      <th id=\"T_f9805_level0_col4\" class=\"col_heading level0 col4\" >n groups</th>\n",
       "      <th id=\"T_f9805_level0_col5\" class=\"col_heading level0 col5\" >n components</th>\n",
       "      <th id=\"T_f9805_level0_col6\" class=\"col_heading level0 col6\" >chain index</th>\n",
       "      <th id=\"T_f9805_level0_col7\" class=\"col_heading level0 col7\" >entity index</th>\n",
       "      <th id=\"T_f9805_level0_col8\" class=\"col_heading level0 col8\" >entity name</th>\n",
       "    </tr>\n",
       "  </thead>\n",
       "  <tbody>\n",
       "    <tr>\n",
       "      <td id=\"T_f9805_row0_col0\" class=\"data row0 col0\" >0</td>\n",
       "      <td id=\"T_f9805_row0_col1\" class=\"data row0 col1\" >Barnase</td>\n",
       "      <td id=\"T_f9805_row0_col2\" class=\"data row0 col2\" >protein</td>\n",
       "      <td id=\"T_f9805_row0_col3\" class=\"data row0 col3\" >864</td>\n",
       "      <td id=\"T_f9805_row0_col4\" class=\"data row0 col4\" >108</td>\n",
       "      <td id=\"T_f9805_row0_col5\" class=\"data row0 col5\" >1</td>\n",
       "      <td id=\"T_f9805_row0_col6\" class=\"data row0 col6\" >0</td>\n",
       "      <td id=\"T_f9805_row0_col7\" class=\"data row0 col7\" >0</td>\n",
       "      <td id=\"T_f9805_row0_col8\" class=\"data row0 col8\" >Barnase</td>\n",
       "    </tr>\n",
       "    <tr>\n",
       "      <td id=\"T_f9805_row1_col0\" class=\"data row1 col0\" >1</td>\n",
       "      <td id=\"T_f9805_row1_col1\" class=\"data row1 col1\" >Barnase</td>\n",
       "      <td id=\"T_f9805_row1_col2\" class=\"data row1 col2\" >protein</td>\n",
       "      <td id=\"T_f9805_row1_col3\" class=\"data row1 col3\" >878</td>\n",
       "      <td id=\"T_f9805_row1_col4\" class=\"data row1 col4\" >110</td>\n",
       "      <td id=\"T_f9805_row1_col5\" class=\"data row1 col5\" >1</td>\n",
       "      <td id=\"T_f9805_row1_col6\" class=\"data row1 col6\" >1</td>\n",
       "      <td id=\"T_f9805_row1_col7\" class=\"data row1 col7\" >0</td>\n",
       "      <td id=\"T_f9805_row1_col8\" class=\"data row1 col8\" >Barnase</td>\n",
       "    </tr>\n",
       "    <tr>\n",
       "      <td id=\"T_f9805_row2_col0\" class=\"data row2 col0\" >2</td>\n",
       "      <td id=\"T_f9805_row2_col1\" class=\"data row2 col1\" >Barnase</td>\n",
       "      <td id=\"T_f9805_row2_col2\" class=\"data row2 col2\" >protein</td>\n",
       "      <td id=\"T_f9805_row2_col3\" class=\"data row2 col3\" >839</td>\n",
       "      <td id=\"T_f9805_row2_col4\" class=\"data row2 col4\" >108</td>\n",
       "      <td id=\"T_f9805_row2_col5\" class=\"data row2 col5\" >1</td>\n",
       "      <td id=\"T_f9805_row2_col6\" class=\"data row2 col6\" >2</td>\n",
       "      <td id=\"T_f9805_row2_col7\" class=\"data row2 col7\" >0</td>\n",
       "      <td id=\"T_f9805_row2_col8\" class=\"data row2 col8\" >Barnase</td>\n",
       "    </tr>\n",
       "    <tr>\n",
       "      <td id=\"T_f9805_row3_col0\" class=\"data row3 col0\" >3</td>\n",
       "      <td id=\"T_f9805_row3_col1\" class=\"data row3 col1\" >Barstar</td>\n",
       "      <td id=\"T_f9805_row3_col2\" class=\"data row3 col2\" >protein</td>\n",
       "      <td id=\"T_f9805_row3_col3\" class=\"data row3 col3\" >693</td>\n",
       "      <td id=\"T_f9805_row3_col4\" class=\"data row3 col4\" >87</td>\n",
       "      <td id=\"T_f9805_row3_col5\" class=\"data row3 col5\" >2</td>\n",
       "      <td id=\"T_f9805_row3_col6\" class=\"data row3 col6\" >3</td>\n",
       "      <td id=\"T_f9805_row3_col7\" class=\"data row3 col7\" >0</td>\n",
       "      <td id=\"T_f9805_row3_col8\" class=\"data row3 col8\" >Barstar</td>\n",
       "    </tr>\n",
       "    <tr>\n",
       "      <td id=\"T_f9805_row4_col0\" class=\"data row4 col0\" >4</td>\n",
       "      <td id=\"T_f9805_row4_col1\" class=\"data row4 col1\" >Barstar</td>\n",
       "      <td id=\"T_f9805_row4_col2\" class=\"data row4 col2\" >protein</td>\n",
       "      <td id=\"T_f9805_row4_col3\" class=\"data row4 col3\" >665</td>\n",
       "      <td id=\"T_f9805_row4_col4\" class=\"data row4 col4\" >86</td>\n",
       "      <td id=\"T_f9805_row4_col5\" class=\"data row4 col5\" >2</td>\n",
       "      <td id=\"T_f9805_row4_col6\" class=\"data row4 col6\" >4</td>\n",
       "      <td id=\"T_f9805_row4_col7\" class=\"data row4 col7\" >0</td>\n",
       "      <td id=\"T_f9805_row4_col8\" class=\"data row4 col8\" >Barstar</td>\n",
       "    </tr>\n",
       "    <tr>\n",
       "      <td id=\"T_f9805_row5_col0\" class=\"data row5 col0\" >5</td>\n",
       "      <td id=\"T_f9805_row5_col1\" class=\"data row5 col1\" >Barstar</td>\n",
       "      <td id=\"T_f9805_row5_col2\" class=\"data row5 col2\" >protein</td>\n",
       "      <td id=\"T_f9805_row5_col3\" class=\"data row5 col3\" >699</td>\n",
       "      <td id=\"T_f9805_row5_col4\" class=\"data row5 col4\" >89</td>\n",
       "      <td id=\"T_f9805_row5_col5\" class=\"data row5 col5\" >1</td>\n",
       "      <td id=\"T_f9805_row5_col6\" class=\"data row5 col6\" >5</td>\n",
       "      <td id=\"T_f9805_row5_col7\" class=\"data row5 col7\" >0</td>\n",
       "      <td id=\"T_f9805_row5_col8\" class=\"data row5 col8\" >Barstar</td>\n",
       "    </tr>\n",
       "  </tbody>\n",
       "</table>\n"
      ],
      "text/plain": [
       "<pandas.io.formats.style.Styler at 0x7f30b3d57790>"
      ]
     },
     "execution_count": 7,
     "metadata": {},
     "output_type": "execute_result"
    }
   ],
   "source": [
    "msm.info(molsys, element='molecule')"
   ]
  },
  {
   "cell_type": "code",
   "execution_count": 13,
   "id": "3419da0e-7b2b-489c-9f82-a22d97430618",
   "metadata": {
    "tags": []
   },
   "outputs": [],
   "source": [
    "barnase = msm.extract(molsys, selection=\"chain_name=='B'\")\n",
    "barstar_E = msm.extract(molsys, selection=\"chain_name=='E'\")\n",
    "barstar_F = msm.extract(molsys, selection=\"chain_name=='F'\")"
   ]
  },
  {
   "cell_type": "code",
   "execution_count": 14,
   "id": "1caa1d43-2516-4187-8645-025d0ed0891b",
   "metadata": {
    "tags": []
   },
   "outputs": [],
   "source": [
    "barstar_F_over_E = msm.structure.align(barstar_F, selection='atom_name==\"CA\"',\n",
    "                                       reference_molecular_system=barstar_E, reference_selection='atom_name==\"CA\"')"
   ]
  },
  {
   "cell_type": "code",
   "execution_count": 15,
   "id": "2879f2c2-c58e-4775-b3a6-ff0b2c12f610",
   "metadata": {
    "tags": []
   },
   "outputs": [],
   "source": [
    "barnase_barstar = msm.merge([barnase, barstar_F_over_E])"
   ]
  },
  {
   "cell_type": "code",
   "execution_count": 16,
   "id": "ea13adb9-045b-4208-9541-3f804307d52f",
   "metadata": {
    "tags": []
   },
   "outputs": [
    {
     "data": {
      "text/plain": [
       "{268: ['CD', 'CE', 'NZ'],\n",
       " 274: ['CG', 'CD', 'OE1', 'OE2'],\n",
       " 292: ['CG', 'CD', 'OE1', 'OE2'],\n",
       " 310: ['CG', 'CD', 'OE1', 'OE2'],\n",
       " 311: ['CG', 'OD1', 'ND2'],\n",
       " 335: ['O']}"
      ]
     },
     "execution_count": 16,
     "metadata": {},
     "output_type": "execute_result"
    }
   ],
   "source": [
    "msm.build.get_missing_heavy_atoms(barnase_barstar)"
   ]
  },
  {
   "cell_type": "code",
   "execution_count": 17,
   "id": "4e8d1b6d-ee1f-4afd-a5d4-233e08550d91",
   "metadata": {
    "tags": []
   },
   "outputs": [
    {
     "data": {
      "text/plain": [
       "{}"
      ]
     },
     "execution_count": 17,
     "metadata": {},
     "output_type": "execute_result"
    }
   ],
   "source": [
    "msm.build.get_missing_residues(barnase_barstar)"
   ]
  },
  {
   "cell_type": "code",
   "execution_count": 18,
   "id": "7dadfc0c-28e3-4d71-b677-9a6fe3bf69f7",
   "metadata": {
    "tags": []
   },
   "outputs": [
    {
     "data": {
      "text/plain": [
       "False"
      ]
     },
     "execution_count": 18,
     "metadata": {},
     "output_type": "execute_result"
    }
   ],
   "source": [
    "msm.contains(barnase_barstar, hydrogens=True)"
   ]
  },
  {
   "cell_type": "code",
   "execution_count": null,
   "id": "5f92af8a-068f-447c-90f7-a58928465d19",
   "metadata": {},
   "outputs": [],
   "source": [
    "barnase_barstar = msm.build.add_missing_heavy_atoms(barnase_barstar)"
   ]
  }
 ],
 "metadata": {
  "kernelspec": {
   "display_name": "Python 3 (ipykernel)",
   "language": "python",
   "name": "python3"
  },
  "language_info": {
   "codemirror_mode": {
    "name": "ipython",
    "version": 3
   },
   "file_extension": ".py",
   "mimetype": "text/x-python",
   "name": "python",
   "nbconvert_exporter": "python",
   "pygments_lexer": "ipython3",
   "version": "3.9.16"
  }
 },
 "nbformat": 4,
 "nbformat_minor": 5
}
